{
 "cells": [
  {
   "cell_type": "code",
   "execution_count": 2,
   "metadata": {
    "collapsed": true
   },
   "outputs": [],
   "source": [
    "# home-made peak caller\n",
    "# calculate the number of breaks in each 50nt long region #\n",
    "import math, sys, numpy\n",
    "inputfile = sys.argv[1]\n",
    "outputfile = sys.argv[2]"
   ]
  },
  {
   "cell_type": "code",
   "execution_count": 3,
   "metadata": {
    "collapsed": true
   },
   "outputs": [],
   "source": [
    "inputfile = 'sicer/chr1sicertest.bed'"
   ]
  },
  {
   "cell_type": "code",
   "execution_count": 4,
   "metadata": {
    "collapsed": true
   },
   "outputs": [],
   "source": [
    "coverage = {}\n",
    "with open(inputfile,'r') as file:\n",
    "    for line in file:\n",
    "        # pull together the reads that fall in 50nt region #\n",
    "        chromosome = line.split()[0]\n",
    "        if chromosome not in coverage.keys():\n",
    "            coverage[chromosome] = {}\n",
    "        region = math.floor(int(line.split()[1])/50)\n",
    "        if region not in coverage[chromosome].keys():\n",
    "            coverage[chromosome][region] = [int(line.split()[3]),]\n",
    "        else:\n",
    "            coverage[chromosome][region].append(int(line.split()[3]))"
   ]
  },
  {
   "cell_type": "code",
   "execution_count": 5,
   "metadata": {},
   "outputs": [],
   "source": [
    "for ch in coverage.keys():\n",
    "    for re in coverage[ch].keys():\n",
    "        numpy.mean(coverage[ch][re])"
   ]
  },
  {
   "cell_type": "code",
   "execution_count": 6,
   "metadata": {
    "collapsed": true
   },
   "outputs": [],
   "source": [
    "with open(outputfile,'a') as wr:\n",
    "    for ch in coverage.keys():\n",
    "        for re in coverage[ch].keys():\n",
    "            line=str(ch)+\"\\t\"+str(re*50)+\"\\t\"+str(re*50+50)+\"\\t\"+str(coverage[ch][re])+\"\\n\"\n",
    "            wr.write(line)"
   ]
  }
 ],
 "metadata": {
  "kernelspec": {
   "display_name": "Python 3",
   "language": "python",
   "name": "python3"
  },
  "language_info": {
   "codemirror_mode": {
    "name": "ipython",
    "version": 3
   },
   "file_extension": ".py",
   "mimetype": "text/x-python",
   "name": "python",
   "nbconvert_exporter": "python",
   "pygments_lexer": "ipython3",
   "version": "3.6.1"
  }
 },
 "nbformat": 4,
 "nbformat_minor": 2
}
