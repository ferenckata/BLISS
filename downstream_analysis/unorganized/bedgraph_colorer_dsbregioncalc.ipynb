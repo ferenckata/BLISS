{
 "cells": [
  {
   "cell_type": "code",
   "execution_count": 2,
   "metadata": {
    "collapsed": true
   },
   "outputs": [],
   "source": [
    "# add colors to the bedgraph to visualize different 'peak sizes'\n",
    "with open('chr1sicertest.bed','r') as bdg:\n",
    "    with open('colored_chr1_sicertest.bed','a') as cbdg:\n",
    "        for line in bdg:\n",
    "            strt = line.strip().split('\\t')[1]\n",
    "            stp = line.strip().split('\\t')[2]\n",
    "            score = int(line.strip().split('\\t')[3])\n",
    "            # if low peak it is yellow\n",
    "            if score < 3:\n",
    "                nline = line.strip() + '\\t0\\t.\\t%s\\t%s\\t230,255,0\\n' % (strt,stp)\n",
    "                cbdg.write(nline)\n",
    "            # if low-medium peak it is green\n",
    "            elif score >= 3 and score < 5:\n",
    "                nline = line.strip() + '\\t0\\t.\\t%s\\t%s\\t0,180,20\\n' % (strt,stp)\n",
    "                cbdg.write(nline)\n",
    "            # if high-medium peak it is blue\n",
    "            elif score >= 5 and score < 10:\n",
    "                nline = line.strip() + '\\t0\\t.\\t%s\\t%s\\t0,0,85\\n' % (strt,stp)\n",
    "                cbdg.write(nline)\n",
    "            # if high peak it is purple\n",
    "            elif score >= 10:\n",
    "                nline = line.strip() + '\\t0\\t.\\t%s\\t%s\\t185,0,185\\n' % (strt,stp)\n",
    "                cbdg.write(nline)"
   ]
  },
  {
   "cell_type": "code",
   "execution_count": 7,
   "metadata": {
    "collapsed": true
   },
   "outputs": [],
   "source": [
    "# calculate the number of breaks in each 50nt long region #\n",
    "import math\n",
    "coverage = {}\n",
    "with open('onlychr1.bedgraph','r') as file:\n",
    "    for line in file:\n",
    "        # pull together the reads that fall in 50nt region #\n",
    "        chromosome = line.split()[0]\n",
    "        if chromosome not in coverage.keys():\n",
    "            coverage[chromosome] = {}\n",
    "        region = math.floor(int(line.split()[1])/50)\n",
    "        if region not in coverage[chromosome].keys():\n",
    "            coverage[chromosome][region] = int(line.strip().split()[3])\n",
    "        else:\n",
    "            coverage[chromosome][region] += int(line.strip().split()[3])\n",
    "with open('pooledchr1.bed','a') as wr:\n",
    "    for ch in coverage.keys():\n",
    "        for re in coverage[ch].keys():\n",
    "            line=str(ch)+\"\\t\"+str(re*50)+\"\\t\"+str(re*50+50)+\"\\t\"+str(coverage[ch][re])+\"\\n\"\n",
    "            wr.write(line)"
   ]
  }
 ],
 "metadata": {
  "kernelspec": {
   "display_name": "Python 3",
   "language": "python",
   "name": "python3"
  },
  "language_info": {
   "codemirror_mode": {
    "name": "ipython",
    "version": 3
   },
   "file_extension": ".py",
   "mimetype": "text/x-python",
   "name": "python",
   "nbconvert_exporter": "python",
   "pygments_lexer": "ipython3",
   "version": "3.6.1"
  }
 },
 "nbformat": 4,
 "nbformat_minor": 2
}
